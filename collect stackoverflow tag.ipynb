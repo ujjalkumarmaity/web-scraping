{
 "cells": [
  {
   "cell_type": "code",
   "execution_count": 5,
   "metadata": {},
   "outputs": [],
   "source": [
    "from urllib.request import urlopen\n",
    "from bs4 import BeautifulSoup"
   ]
  },
  {
   "cell_type": "code",
   "execution_count": null,
   "metadata": {
    "scrolled": true
   },
   "outputs": [],
   "source": [
    "l=[]\n",
    "for i in range(1,36):\n",
    "    url='https://stackoverflow.com/tags?page='+str(i)+'&tab=popular'\n",
    "    df=urlopen(url)\n",
    "    df=BeautifulSoup(df,'html.parser')\n",
    "    tags_list=df.find('div',{'id':\"tags_list\"})\n",
    "    for i in tags_list.findAll('div',{'class':\"grid jc-space-between ai-center mb12\"}):\n",
    "        l.append(i.text.replace('\\n',''))\n",
    "    "
   ]
  },
  {
   "cell_type": "code",
   "execution_count": 40,
   "metadata": {},
   "outputs": [],
   "source": [
    "import pandas as pd\n",
    "tag=pd.DataFrame({'tags':l})\n",
    "tag.to_csv('stackoverflow_tags.csv')"
   ]
  }
 ],
 "metadata": {
  "kernelspec": {
   "display_name": "Python 3",
   "language": "python",
   "name": "python3"
  },
  "language_info": {
   "codemirror_mode": {
    "name": "ipython",
    "version": 3
   },
   "file_extension": ".py",
   "mimetype": "text/x-python",
   "name": "python",
   "nbconvert_exporter": "python",
   "pygments_lexer": "ipython3",
   "version": "3.7.4"
  }
 },
 "nbformat": 4,
 "nbformat_minor": 2
}
